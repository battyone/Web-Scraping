{
 "cells": [
  {
   "cell_type": "markdown",
   "metadata": {},
   "source": [
    "# Best Selling Book Prices Webscraper"
   ]
  },
  {
   "cell_type": "markdown",
   "metadata": {},
   "source": [
    "## Next feature:\n",
    "\n",
    "Scrape data for top 100 books per category rather than top 20."
   ]
  },
  {
   "cell_type": "markdown",
   "metadata": {},
   "source": [
    "### Imports"
   ]
  },
  {
   "cell_type": "code",
   "execution_count": 1,
   "metadata": {
    "collapsed": true
   },
   "outputs": [],
   "source": [
    "import requests\n",
    "from bs4 import BeautifulSoup\n",
    "import pandas as pd"
   ]
  },
  {
   "cell_type": "markdown",
   "metadata": {},
   "source": [
    "### Create list of categories"
   ]
  },
  {
   "cell_type": "code",
   "execution_count": 2,
   "metadata": {
    "collapsed": true
   },
   "outputs": [],
   "source": [
    "r = requests.get('https://www.amazon.com/best-sellers-books-Amazon/zgbs/books/ref=zg_bs_unv_b_1_4_1')\n",
    "soup = BeautifulSoup(r.text, 'html.parser')\n",
    "category_list = soup.find_all('ul',attrs={'id':'zg_browseRoot'})"
   ]
  },
  {
   "cell_type": "code",
   "execution_count": 3,
   "metadata": {
    "collapsed": true
   },
   "outputs": [],
   "source": [
    "category_links = category_list[0].find_all('a')"
   ]
  },
  {
   "cell_type": "code",
   "execution_count": 4,
   "metadata": {},
   "outputs": [
    {
     "data": {
      "text/plain": [
       "38"
      ]
     },
     "execution_count": 4,
     "metadata": {},
     "output_type": "execute_result"
    }
   ],
   "source": [
    "len(category_links)"
   ]
  },
  {
   "cell_type": "code",
   "execution_count": 5,
   "metadata": {},
   "outputs": [
    {
     "data": {
      "text/plain": [
       "'Arts-Photography/zgbs/books/1'"
      ]
     },
     "execution_count": 5,
     "metadata": {},
     "output_type": "execute_result"
    }
   ],
   "source": [
    "category_links[1]['href'][42:] #Example category"
   ]
  },
  {
   "cell_type": "code",
   "execution_count": 6,
   "metadata": {
    "collapsed": true
   },
   "outputs": [],
   "source": [
    "category_url_endings=[]\n",
    "\n",
    "for i in range(1,len(category_links)): #Start at 1 to skip \"all books category\"\n",
    "    category_url_endings.append(category_links[i]['href'][42:])"
   ]
  },
  {
   "cell_type": "code",
   "execution_count": 7,
   "metadata": {
    "collapsed": true
   },
   "outputs": [],
   "source": [
    "#category_url_endings.remove('Audible-Audiobooks/zgbs/books/2402172011') #Remove audible books"
   ]
  },
  {
   "cell_type": "code",
   "execution_count": 8,
   "metadata": {},
   "outputs": [
    {
     "data": {
      "text/plain": [
       "'Calendars/zgbs/books/3248857011'"
      ]
     },
     "execution_count": 8,
     "metadata": {},
     "output_type": "execute_result"
    }
   ],
   "source": [
    "category_url_endings[5]"
   ]
  },
  {
   "cell_type": "code",
   "execution_count": 9,
   "metadata": {
    "collapsed": true
   },
   "outputs": [],
   "source": [
    "category_names=[]\n",
    "\n",
    "for ending in category_url_endings:\n",
    "    category_names.append(ending.split('/')[0])"
   ]
  },
  {
   "cell_type": "code",
   "execution_count": null,
   "metadata": {},
   "outputs": [
    {
     "data": {
      "text/plain": [
       "['Arts-Photography', 'Audible-Audiobooks', 'Biographies']"
      ]
     },
     "execution_count": 10,
     "metadata": {},
     "output_type": "execute_result"
    }
   ],
   "source": [
    "category_names[:3]"
   ]
  },
  {
   "cell_type": "markdown",
   "metadata": {},
   "source": [
    "### Scrape pages"
   ]
  },
  {
   "cell_type": "code",
   "execution_count": null,
   "metadata": {},
   "outputs": [
    {
     "name": "stdout",
     "output_type": "stream",
     "text": [
      "** Parsing Arts-Photography Category **\n",
      "** Parsing Audible-Audiobooks Category **\n",
      "** Parsing Biographies Category **\n",
      "** Parsing CD Category **\n",
      "** Parsing Business-Money Category **\n",
      "** Parsing Calendars Category **\n",
      "** Parsing Childrens Category **\n",
      "** Parsing Christian-Bibles Category **\n",
      "** Parsing Comics-Graphic-Novels Category **\n",
      "** Parsing Computers-Technology Category **\n",
      "** Parsing Cookbooks-Food-Wine Category **\n",
      "** Parsing Crafts-Hobbies-Home Category **\n",
      "** Parsing Deals Category **\n",
      "** Parsing Education-Teaching Category **\n",
      "** Parsing Engineering-Transportation Category **\n",
      "** Parsing Gay-Lesbian Category **\n",
      "** Parsing Health-Fitness-Dieting Category **\n",
      "** Parsing History Category **\n",
      "** Parsing Humor-Entertainment Category **\n",
      "** Parsing Law Category **\n",
      "** Parsing Libros-en-español Category **\n",
      "** Parsing Literature-Fiction Category **\n",
      "** Parsing Medical Category **\n",
      "** Parsing Mystery-Thriller-Suspense Category **\n",
      "** Parsing Parenting-Relationships Category **\n",
      "** Parsing Politics-Social-Sciences Category **\n",
      "** Parsing Reference Category **\n",
      "** Parsing Religion-Spirituality Category **\n",
      "** Parsing Romance Category **\n",
      "** Parsing Science-Math Category **\n",
      "** Parsing Science-Fiction-Fantasy Category **\n",
      "** Parsing Self-Help Category **\n"
     ]
    }
   ],
   "source": [
    "prices = []\n",
    "titles = []\n",
    "categories = []\n",
    "\n",
    "for category,ending in zip(category_names,category_url_endings):\n",
    "    print('** Parsing {} Category **'.format(category))\n",
    "\n",
    "    url= 'https://www.amazon.com/Best-Sellers-Books-'+ending+'/ref=zg_bs_nav_b_1_b'\n",
    "    r = requests.get(url)\n",
    "    soup = BeautifulSoup(r.text, 'html.parser')\n",
    "    book_divs = soup.find_all('div',attrs={'class':'zg_itemImmersion'})\n",
    "\n",
    "    for book in book_divs:\n",
    "        titles.append(book.find('div',attrs={'class':'p13n-sc-truncate'}).text.strip())\n",
    "        try: \n",
    "            prices.append(book.find('span',attrs={'class':'p13n-sc-price'}).text[1:])\n",
    "        except: #Exception for audible books\n",
    "            #print('  Audible book: {}'.format(titles[-1]))\n",
    "            prices.append(-1)\n",
    "        categories.append(category)\n",
    "    #print('Last Title for Page: {}'.format(titles[-1]))\n",
    "                \n",
    "\n",
    "prices = [float(p) for p in prices]"
   ]
  },
  {
   "cell_type": "code",
   "execution_count": null,
   "metadata": {},
   "outputs": [],
   "source": [
    "#Prototype for iterating over all 5 pages per category\n",
    "\"\"\"\n",
    "prices = []\n",
    "titles = []\n",
    "categories = []\n",
    "\n",
    "for category,ending in zip(category_names,category_url_endings):\n",
    "    print(category)\n",
    "    print(ending)\n",
    "    print('** Parsing {} Category **'.format(category))\n",
    "\n",
    "    for i in range(1,6):\n",
    "        print('Parsing Page {}...'.format(i))\n",
    "        url= 'https://www.amazon.com/Best-Sellers-Books-'+ending+'/ref=zg_bs_nav_b_1_b#'+str(i)\n",
    "        r = requests.get(url)\n",
    "        print(url)\n",
    "        soup = BeautifulSoup(r.text, 'html.parser')\n",
    "        book_divs = soup.find_all('div',attrs={'class':'zg_itemImmersion'})\n",
    "\n",
    "        for book in book_divs:\n",
    "            titles.append(book.find('div',attrs={'class':'p13n-sc-truncate'}).text.strip())\n",
    "            try: \n",
    "                prices.append(book.find('span',attrs={'class':'p13n-sc-price'}).text[1:])\n",
    "            except: #Exception for audible books\n",
    "                print('  Audible book: {}'.format(titles[-1]))\n",
    "                prices.append(-1)\n",
    "            categories.append(category)\n",
    "        print('Last Title for Page: {}'.format(titles[-1]))\n",
    "                \n",
    "\n",
    "prices = [float(p) for p in prices]\n",
    "\"\"\"\n",
    "print()"
   ]
  },
  {
   "cell_type": "markdown",
   "metadata": {},
   "source": [
    "### Create dataframe"
   ]
  },
  {
   "cell_type": "code",
   "execution_count": null,
   "metadata": {},
   "outputs": [],
   "source": [
    "books_and_audible = pd.DataFrame({'Price':prices,'Title':titles,'Category':categories})\n",
    "\n",
    "books_and_audible.head()"
   ]
  },
  {
   "cell_type": "code",
   "execution_count": null,
   "metadata": {},
   "outputs": [],
   "source": [
    "books = books_and_audible[books_and_audible['Price']>-1] #Drop audible books from each category"
   ]
  },
  {
   "cell_type": "markdown",
   "metadata": {},
   "source": [
    "### Examine prices"
   ]
  },
  {
   "cell_type": "code",
   "execution_count": null,
   "metadata": {},
   "outputs": [],
   "source": [
    "import seaborn as sns\n",
    "import matplotlib.pyplot as plt\n",
    "%matplotlib inline"
   ]
  },
  {
   "cell_type": "code",
   "execution_count": null,
   "metadata": {
    "collapsed": true
   },
   "outputs": [],
   "source": [
    "categories_in_order_by_median_price = books.groupby('Category')['Price'].median().sort_values(ascending=False).index"
   ]
  },
  {
   "cell_type": "code",
   "execution_count": null,
   "metadata": {},
   "outputs": [],
   "source": [
    "plt.figure(figsize=(16,8))\n",
    "plt.xticks(rotation=90)\n",
    "sns.boxplot(x='Category',y='Price',data=books,orient='v', order = categories_in_order_by_median_price)"
   ]
  },
  {
   "cell_type": "code",
   "execution_count": null,
   "metadata": {},
   "outputs": [],
   "source": [
    "plt.figure(figsize=(12,13))\n",
    "plt.xticks(rotation=90)\n",
    "sns.boxplot(x='Price',y='Category',data=books,orient='h', order = categories_in_order_by_median_price)"
   ]
  },
  {
   "cell_type": "markdown",
   "metadata": {},
   "source": [
    "### Feature Extraction - Title length"
   ]
  },
  {
   "cell_type": "code",
   "execution_count": null,
   "metadata": {},
   "outputs": [],
   "source": [
    "books['Title Length'] = books['Title'].apply(lambda x: len(x))"
   ]
  },
  {
   "cell_type": "code",
   "execution_count": null,
   "metadata": {},
   "outputs": [],
   "source": [
    "books.head()"
   ]
  },
  {
   "cell_type": "markdown",
   "metadata": {
    "collapsed": true
   },
   "source": [
    "### Examine Title lengths"
   ]
  },
  {
   "cell_type": "code",
   "execution_count": null,
   "metadata": {
    "collapsed": true
   },
   "outputs": [],
   "source": [
    "categories_in_order_by_median_length = books.groupby('Category')['Title Length'].median().sort_values(ascending=False).index"
   ]
  },
  {
   "cell_type": "code",
   "execution_count": null,
   "metadata": {},
   "outputs": [],
   "source": [
    "plt.figure(figsize=(16,8))\n",
    "plt.xticks(rotation=90)\n",
    "sns.boxplot(x='Category',y='Title Length',data=books,order=categories_in_order_by_median_length)"
   ]
  },
  {
   "cell_type": "code",
   "execution_count": null,
   "metadata": {},
   "outputs": [],
   "source": [
    "plt.figure(figsize=(12,13))\n",
    "plt.xticks(rotation=90)\n",
    "sns.boxplot(x='Title Length', y='Category',data=books,orient='h',order=categories_in_order_by_median_length);\n",
    "plt.title('Romance books have the shortest titles, Cookbooks have the longest')"
   ]
  }
 ],
 "metadata": {
  "kernelspec": {
   "display_name": "Python 3",
   "language": "python",
   "name": "python3"
  },
  "language_info": {
   "codemirror_mode": {
    "name": "ipython",
    "version": 3
   },
   "file_extension": ".py",
   "mimetype": "text/x-python",
   "name": "python",
   "nbconvert_exporter": "python",
   "pygments_lexer": "ipython3",
   "version": "3.6.1"
  }
 },
 "nbformat": 4,
 "nbformat_minor": 2
}
